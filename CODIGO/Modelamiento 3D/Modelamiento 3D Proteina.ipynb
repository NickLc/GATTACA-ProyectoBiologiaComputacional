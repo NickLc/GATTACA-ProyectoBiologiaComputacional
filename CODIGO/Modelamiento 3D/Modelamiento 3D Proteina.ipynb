{
 "cells": [
  {
   "cell_type": "markdown",
   "metadata": {},
   "source": [
    "# Estructuras moleculares con BioPython \n",
    "\n",
    "\n",
    "### La descarga de un archivo de estructura de la base de datos PDB\n"
   ]
  },
  {
   "cell_type": "code",
   "execution_count": 1,
   "metadata": {},
   "outputs": [
    {
     "name": "stdout",
     "output_type": "stream",
     "text": [
      "Structure exists: 'C:\\Users\\ADMIN\\Documents\\UNI_Jupyter\\Biologia_Jupyter\\Codigo-Proyecto\\xt\\5xtb.cif' \n"
     ]
    },
    {
     "name": "stderr",
     "output_type": "stream",
     "text": [
      "WARNING: The default download format has changed from PDB to PDBx/mmCif\n"
     ]
    },
    {
     "data": {
      "text/plain": [
       "'C:\\\\Users\\\\ADMIN\\\\Documents\\\\UNI_Jupyter\\\\Biologia_Jupyter\\\\Codigo-Proyecto\\\\xt\\\\5xtb.cif'"
      ]
     },
     "execution_count": 1,
     "metadata": {},
     "output_type": "execute_result"
    }
   ],
   "source": [
    "from Bio.PDB import *\n",
    "\n",
    "pdbl = PDBList()\n",
    "pdbl.retrieve_pdb_file('5XTB')\n"
   ]
  },
  {
   "cell_type": "markdown",
   "metadata": {},
   "source": [
    "Esa advertencia nos dice que el formato PDB es obsoleto y que el nuevo valor predeterminado es mmCIF.\n",
    "\n",
    "Vamos a entrar en lo que parece en un poco.\n",
    "\n",
    "Ahora deberíamos tener una carpeta que contiene `5xtb.cifen` nuestro directorio de trabajo.\n",
    "\n",
    "\n",
    "## Analizar archivos Estructura\n",
    "\n",
    "El primer argumento para el método de instancia get_structurees un nombre opcional para la molécula, y el segundo argumento es la ruta de acceso al archivo de estructura.\n"
   ]
  },
  {
   "cell_type": "code",
   "execution_count": 3,
   "metadata": {},
   "outputs": [
    {
     "name": "stderr",
     "output_type": "stream",
     "text": [
      "C:\\Users\\ADMIN\\Anaconda3\\lib\\site-packages\\Bio\\PDB\\StructureBuilder.py:90: PDBConstructionWarning: WARNING: Chain A is discontinuous at line 27792.\n",
      "  PDBConstructionWarning)\n",
      "C:\\Users\\ADMIN\\Anaconda3\\lib\\site-packages\\Bio\\PDB\\StructureBuilder.py:90: PDBConstructionWarning: WARNING: Chain B is discontinuous at line 27831.\n",
      "  PDBConstructionWarning)\n",
      "C:\\Users\\ADMIN\\Anaconda3\\lib\\site-packages\\Bio\\PDB\\StructureBuilder.py:90: PDBConstructionWarning: WARNING: Chain C is discontinuous at line 27847.\n",
      "  PDBConstructionWarning)\n",
      "C:\\Users\\ADMIN\\Anaconda3\\lib\\site-packages\\Bio\\PDB\\StructureBuilder.py:90: PDBConstructionWarning: WARNING: Chain E is discontinuous at line 27855.\n",
      "  PDBConstructionWarning)\n",
      "C:\\Users\\ADMIN\\Anaconda3\\lib\\site-packages\\Bio\\PDB\\StructureBuilder.py:90: PDBConstructionWarning: WARNING: Chain J is discontinuous at line 27890.\n",
      "  PDBConstructionWarning)\n",
      "C:\\Users\\ADMIN\\Anaconda3\\lib\\site-packages\\Bio\\PDB\\StructureBuilder.py:90: PDBConstructionWarning: WARNING: Chain M is discontinuous at line 27938.\n",
      "  PDBConstructionWarning)\n",
      "C:\\Users\\ADMIN\\Anaconda3\\lib\\site-packages\\Bio\\PDB\\StructureBuilder.py:90: PDBConstructionWarning: WARNING: Chain O is discontinuous at line 27958.\n",
      "  PDBConstructionWarning)\n"
     ]
    }
   ],
   "source": [
    "parser = MMCIFParser()\n",
    "structure = parser.get_structure('5XTB', 'xt/5xtb.cif')\n"
   ]
  },
  {
   "cell_type": "markdown",
   "metadata": {},
   "source": [
    "Ahora hemos extraído toda la información estructural a partir del archivo.\n",
    "\n",
    "Vamos a echar un vistazo a los atributos\n"
   ]
  },
  {
   "cell_type": "code",
   "execution_count": 5,
   "metadata": {},
   "outputs": [
    {
     "name": "stdout",
     "output_type": "stream",
     "text": [
      "add, child_dict, child_list, copy, detach_child, detach_parent, full_id, get_atoms, get_chains, get_full_id, get_id, get_iterator, get_level, get_list, get_models, get_parent, get_residues, has_id, header, id, insert, level, parent, set_parent, transform, xtra\n"
     ]
    }
   ],
   "source": [
    "def cleandir(obj):\n",
    "    print(\", \".join([a for a in dir(obj) if not a.startswith(\"_\")]))\n",
    "cleandir(structure)"
   ]
  },
  {
   "cell_type": "markdown",
   "metadata": {},
   "source": [
    "Objetos de estructura se organizan en una jerarquía específica de objetos.\n",
    "\n",
    "Sólo vamos a centrar en los elementos fundamentales que son: Modelo -> Cadena -> Residuos -> Atom.\n",
    "\n",
    "Cada archivo de estructura puede contener varios \"modelos\" de la misma molécula.\n",
    "\n",
    "Cada modelo contiene varios \"cadenas\" o hebras de proteína / ARN / ADN /.\n",
    "\n",
    "Cada \"cadena\" se compone de residuos, o aminoácidos / bases de ADN / bases de ARN.\n",
    "\n",
    "Cada residuo se compone de átomos.\n",
    "\n",
    "### La visualización de las estructuras en Cuadernos jupyter\n",
    "\n",
    "Hay una muy agradable \"Widget\" para portátiles que nos permite visualizar objetos de estructura.\n",
    "\n",
    "conda config --add channels conda-forge\n",
    "\n",
    "conda install nglview -c bioconda\n",
    "\n",
    "might need: jupyter-nbextension enable nglview --py --sys-prefix\n",
    "\n",
    "Para hacer manipulaciones más avanzados, es mejor utilizar herramientas independientes tales como Quimera y pymol .\n",
    "\n",
    "Vamos a ver nuestra proteína transportadora de dopamina con destino a la dopamina.\n"
   ]
  },
  {
   "cell_type": "code",
   "execution_count": 6,
   "metadata": {},
   "outputs": [],
   "source": [
    "import nglview as nv"
   ]
  },
  {
   "cell_type": "code",
   "execution_count": 7,
   "metadata": {},
   "outputs": [],
   "source": [
    "view = nv.show_biopython(structure)\n",
    "view.clear_representations()\n",
    "#add ribbons\n",
    "view.add_cartoon('protein')\n",
    "#add ball and stick for non-rotien\n",
    "view.add_ball_and_stick('not protein')"
   ]
  },
  {
   "cell_type": "code",
   "execution_count": 8,
   "metadata": {},
   "outputs": [
    {
     "data": {
      "application/vnd.jupyter.widget-view+json": {
       "model_id": "8070ba53e07e44588af950e6c46ded57",
       "version_major": 2,
       "version_minor": 0
      },
      "text/html": [
       "<p>Failed to display Jupyter Widget of type <code>NGLWidget</code>.</p>\n",
       "<p>\n",
       "  If you're reading this message in the Jupyter Notebook or JupyterLab Notebook, it may mean\n",
       "  that the widgets JavaScript is still loading. If this message persists, it\n",
       "  likely means that the widgets JavaScript library is either not installed or\n",
       "  not enabled. See the <a href=\"https://ipywidgets.readthedocs.io/en/stable/user_install.html\">Jupyter\n",
       "  Widgets Documentation</a> for setup instructions.\n",
       "</p>\n",
       "<p>\n",
       "  If you're reading this message in another frontend (for example, a static\n",
       "  rendering on GitHub or <a href=\"https://nbviewer.jupyter.org/\">NBViewer</a>),\n",
       "  it may mean that your frontend doesn't currently support widgets.\n",
       "</p>\n"
      ],
      "text/plain": [
       "NGLWidget()"
      ]
     },
     "metadata": {},
     "output_type": "display_data"
    }
   ],
   "source": [
    "view"
   ]
  }
 ],
 "metadata": {
  "kernelspec": {
   "display_name": "Python 3",
   "language": "python",
   "name": "python3"
  },
  "language_info": {
   "codemirror_mode": {
    "name": "ipython",
    "version": 3
   },
   "file_extension": ".py",
   "mimetype": "text/x-python",
   "name": "python",
   "nbconvert_exporter": "python",
   "pygments_lexer": "ipython3",
   "version": "3.6.4"
  }
 },
 "nbformat": 4,
 "nbformat_minor": 2
}
