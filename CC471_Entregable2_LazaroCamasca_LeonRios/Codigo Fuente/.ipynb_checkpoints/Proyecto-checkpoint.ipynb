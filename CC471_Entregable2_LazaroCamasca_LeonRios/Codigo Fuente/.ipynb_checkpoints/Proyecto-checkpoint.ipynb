{
 "cells": [
  {
   "cell_type": "markdown",
   "metadata": {},
   "source": [
    "# Proyecto Biologia Computacional"
   ]
  },
  {
   "cell_type": "markdown",
   "metadata": {},
   "source": [
    "### Unir varios archivos fasta"
   ]
  },
  {
   "cell_type": "code",
   "execution_count": 1,
   "metadata": {},
   "outputs": [
    {
     "name": "stdout",
     "output_type": "stream",
     "text": [
      "Procediendo a leer los ficheros de ./gen_material/\n",
      "Escribiendo fichero total...\n",
      "Finalizado.\n"
     ]
    }
   ],
   "source": [
    "from Bio import SeqIO\n",
    "import os\n",
    "\n",
    "if __name__ == '__main__' :\n",
    "    print('Procediendo a leer los ficheros de ./gen_material/')\n",
    "    records = []\n",
    "\n",
    "    for seq in os.listdir('gen_material/fasta') :\n",
    "        fichero = open('gen_material/fasta/' + seq)\n",
    "        record = SeqIO.read(fichero, 'fasta')\n",
    "        records.append(record)\n",
    "\n",
    "    print('Escribiendo fichero total...')\n",
    "    SeqIO.write(records, 'totalsec.fasta', 'fasta')\n",
    "    print('Finalizado.')\n",
    "\n"
   ]
  },
  {
   "cell_type": "markdown",
   "metadata": {},
   "source": [
    "### 1. Alineamiento de secuencias\n",
    "\n",
    "Para el alineamiento usaremos una  herramienta en linea [online tool](https://www.ebi.ac.uk/Tools/msa/muscle/) __ebi__ que tiene como entrada un archivo `fasta` - el cual ya hemos creado.\n",
    "\n",
    "#### Opción clwstrict \n",
    "Cuando descargamos el archivo tiene el siguiente nombre __muscle-I20190521-000553-0880-61726773-p1m__ luego cambiamos el nombre a __total.clustal__.\n",
    "\n",
    "__Guardar alimeamiento__:\n",
    "Guardamos el alineamiento hecho por la pagina __ebi__ con el nombre de __total.clustal__.\n",
    "\n",
    "\n",
    "### 2. Cargar el alineamiento resultante\n",
    "\n",
    "Usamos __AlignIO__ para leer el archivo de alineamiento en formato 'clustal'."
   ]
  },
  {
   "cell_type": "code",
   "execution_count": 2,
   "metadata": {},
   "outputs": [],
   "source": [
    "#Abrir el archivo de alineamiento\n",
    "from Bio import AlignIO\n",
    "with open(\"gen_material/total.clustal\", \"r\") as aln:\n",
    "    #usar AlignIO tpara leer el archivo de alineamiento en formato 'clustal' format\n",
    "    alignment = AlignIO.read(aln, \"clustal\")"
   ]
  },
  {
   "cell_type": "markdown",
   "metadata": {},
   "source": [
    "### 3. Creamos la matriz de distancias"
   ]
  },
  {
   "cell_type": "code",
   "execution_count": 3,
   "metadata": {},
   "outputs": [
    {
     "data": {
      "text/plain": [
       "DistanceMatrix(names=['AEC04503.1', 'AEH42425.1', 'AON77377.1', 'ADI80364.1', 'AJE26518.1', 'NP_944712.1', 'BAH23368.1', 'ACJ45788.1', 'ABM63279.1', 'YP_009178568.1', 'AIY56286.1'], matrix=[[0], [0.6340057636887608, 0], [0.6426512968299711, 0.17002881844380402, 0], [0.6570605187319885, 0.14409221902017288, 0.12968299711815567, 0], [0.7752161383285303, 0.5389048991354467, 0.5475504322766571, 0.5475504322766571, 0], [0.7492795389048992, 0.5072046109510087, 0.5100864553314122, 0.5100864553314122, 0.40634005763688763, 0], [0.7752161383285303, 0.5619596541786743, 0.5677233429394812, 0.579250720461095, 0.40634005763688763, 0.3025936599423631, 0], [0.7752161383285303, 0.5619596541786743, 0.5706051873198847, 0.5821325648414986, 0.4005763688760807, 0.3025936599423631, 0.025936599423631135, 0], [0.7694524495677233, 0.5533141210374639, 0.5475504322766571, 0.5590778097982709, 0.3948126801152738, 0.34005763688760804, 0.27665706051873196, 0.27953890489913547, 0], [0.7752161383285303, 0.5619596541786743, 0.5648414985590778, 0.5734870317002883, 0.4005763688760807, 0.3227665706051873, 0.25360230547550433, 0.24495677233429392, 0.19884726224783866, 0], [0.7723342939481268, 0.5590778097982709, 0.5561959654178674, 0.5706051873198847, 0.40922190201729103, 0.3631123919308358, 0.2939481268011528, 0.27953890489913547, 0.19308357348703165, 0.08933717579250722, 0]])"
      ]
     },
     "execution_count": 3,
     "metadata": {},
     "output_type": "execute_result"
    }
   ],
   "source": [
    "from Bio.Phylo.TreeConstruction import DistanceCalculator\n",
    "\n",
    "#calcular la  matriz de distancias\n",
    "calculator = DistanceCalculator('identity')\n",
    "# añade la matriz de  distancias al objeto calculator y lo retorna\n",
    "dm = calculator.get_distance(alignment)\n",
    "dm"
   ]
  },
  {
   "cell_type": "markdown",
   "metadata": {},
   "source": [
    "### 4. Creamos el arbol UPGMA a partir de la matriz"
   ]
  },
  {
   "cell_type": "code",
   "execution_count": 4,
   "metadata": {},
   "outputs": [
    {
     "data": {
      "text/plain": [
       "Tree(rooted=True)"
      ]
     },
     "execution_count": 4,
     "metadata": {},
     "output_type": "execute_result"
    }
   ],
   "source": [
    "from Bio.Phylo.TreeConstruction import DistanceTreeConstructor\n",
    "\n",
    "#initialize a DistanceTreeConstructor object based on our distance calculator object\n",
    "constructor = DistanceTreeConstructor(calculator)\n",
    "\n",
    "#build the tree\n",
    "#upgma_tree = constructor.build_tree(alignment)\n",
    "upgma_tree = constructor.upgma(dm)\n",
    "upgma_tree"
   ]
  },
  {
   "cell_type": "markdown",
   "metadata": {},
   "source": [
    "__Mostrar el arbol__"
   ]
  },
  {
   "cell_type": "code",
   "execution_count": 8,
   "metadata": {},
   "outputs": [
    {
     "data": {
      "image/png": "[encoded data removed]",
      "text/plain": [
       "<matplotlib.figure.Figure at 0x269f14d3e48>"
      ]
     },
     "metadata": {},
     "output_type": "display_data"
    }
   ],
   "source": [
    "from Bio import Phylo\n",
    "import pylab\n",
    "#draw the tree\n",
    "Phylo.draw(upgma_tree)"
   ]
  },
  {
   "cell_type": "markdown",
   "metadata": {},
   "source": [
    "### 6. Grabamos el archivos en formato PhyloXML"
   ]
  },
  {
   "cell_type": "code",
   "execution_count": 6,
   "metadata": {},
   "outputs": [],
   "source": [
    "import sys\n",
    "#Grabamos  el arbol UPGMA\n",
    "with open(\"gen_material/mytree_orchid_UPGMA.xml\", \"w\") as f:\n",
    "    Phylo.write(upgma_tree,f,\"phyloxml\")\n"
   ]
  },
  {
   "cell_type": "markdown",
   "metadata": {},
   "source": [
    "### 7. Interfaz grafica"
   ]
  },
  {
   "cell_type": "code",
   "execution_count": 26,
   "metadata": {},
   "outputs": [],
   "source": [
    "from tkinter import *\n",
    "from tkinter.ttk import *\n",
    "from PIL import Image, ImageTk\n",
    "\n",
    "window = Tk()\n",
    "window.title(\"App Biologia Computacional\")\n",
    "window.geometry('600x400')\n",
    "\n",
    "#=======================================================================\n",
    "frame0 = Frame(window) \n",
    "\n",
    "titulo = \"\"\"  Analisis Genetico \n",
    "              de \n",
    "Especies Endemicas\"\"\"\n",
    " \n",
    "#Titulo\n",
    "lbl = Label(window, text=titulo, font=(\"Arial Bold\", 14))\n",
    "lbl.grid(column=1, row=0)\n",
    "\n",
    "frame0.grid(column = 1, row = 0)\n",
    "\n",
    "#======================FRAME 1=================================\n",
    "\n",
    "frame1 = Frame(window)\n",
    "#-----------------------------------------------------------------------\n",
    "#Etique especies\n",
    "lbl = Label(frame1, text=\"Especies\", font=(\"Arial Bold\", 14))\n",
    "lbl.grid(column=1, row=1)\n",
    "#-----------------------------------------------------------------------\n",
    "\n",
    "# Botones y Check de las especies a seleccionar\n",
    "\n",
    "check_state = []\n",
    "num_especies = 10\n",
    "#configuraciones\n",
    "for i in range(num_especies):\n",
    "    ch_st = BooleanVar()\n",
    "    ch_st.set(0) #uncheck - aparesca deseleccionado\n",
    "    check_state.append(ch_st)\n",
    "    \n",
    "\n",
    "check = []   #Lista de checks\n",
    "boton = []   #Lista de botones\n",
    "for i in range(num_especies):\n",
    "    # checks\n",
    "    ch = Checkbutton(frame1, text = 'Especie '+str(i+1), var = check_state[i])\n",
    "    check.append(ch)\n",
    "    # botones\n",
    "    btn = Button(frame1, text=\"Info\") \n",
    "    boton.append(btn)\n",
    "    \n",
    "#mostrat check\n",
    "for i in range(num_especies):\n",
    "    check[i].grid(column = 0, row = 3+i)\n",
    "    boton[i].grid(column = 2, row = 3+i, rowspan=1)\n",
    "    \n",
    "#-----------------------------------------------------------------------   \n",
    "frame1.grid(column = 0, row = 1)\n",
    "\n",
    "#=======================FRAME 2=================================  \n",
    "\n",
    "frame2=Frame(window)\n",
    "#----------------------------------------------------------------------- \n",
    "# abrimos una imagen\n",
    "im = Image.open('uni.png')\n",
    "# Convertimos la imagen a un objeto PhotoImage de Tkinter\n",
    "photo = ImageTk.PhotoImage(im)  \n",
    "\n",
    "cv = Canvas(frame2, width=50, height=50)  \n",
    "cv.create_image(0, 0, image = photo, anchor='nw')\n",
    "cv.grid(column = 1, row = 2) \n",
    "\n",
    "#----------------------------------------------------------------------- \n",
    "#Boton de alimeamiento\n",
    "boton_alineamiento = Button(frame2, text = \"Alinear Secuencias\") \n",
    "boton_alineamiento.grid(column = 4, row = 2)\n",
    "\n",
    "\n",
    "#Boton de generar arbol\n",
    "boton_get_tree = Button(frame2, text = \"Generar arbol\") \n",
    "boton_get_tree.grid(column = 4, row = 6)\n",
    "\n",
    "frame2.grid(column = 1, row = 1)\n",
    "\n",
    "\n",
    "window.mainloop()"
   ]
  },
  {
   "cell_type": "code",
   "execution_count": null,
   "metadata": {},
   "outputs": [],
   "source": [
    " \n"
   ]
  }
 ],
 "metadata": {
  "kernelspec": {
   "display_name": "Python 3",
   "language": "python",
   "name": "python3"
  },
  "language_info": {
   "codemirror_mode": {
    "name": "ipython",
    "version": 3
   },
   "file_extension": ".py",
   "mimetype": "text/x-python",
   "name": "python",
   "nbconvert_exporter": "python",
   "pygments_lexer": "ipython3",
   "version": "3.6.4"
  }
 },
 "nbformat": 4,
 "nbformat_minor": 2
}
